{
 "cells": [
  {
   "cell_type": "code",
   "execution_count": 1,
   "metadata": {},
   "outputs": [],
   "source": [
    "import numpy as np\n",
    "import sympy as sym\n",
    "from quantiphy import Quantity\n"
   ]
  },
  {
   "cell_type": "markdown",
   "metadata": {},
   "source": [
    "\n",
    "### Calculating parasitic capacitance and inductance\n",
    "ref: [link](https://www.edn.com/optimizing-snubber-design-through-frequency-domain-analysis/)\n",
    "\n"
   ]
  },
  {
   "cell_type": "code",
   "execution_count": 64,
   "metadata": {},
   "outputs": [],
   "source": [
    "def print_float(var_name: str, value: float, unit: str = ''):\n",
    "    print(var_name, \": \", Quantity(value, unit))\n",
    "\n",
    "\n",
    "def calculate_parasitics(f1, f2, v1, v2, vin, cadd):\n",
    "    f = np.array([f1, f2])\n",
    "\n",
    "    w = f * 2*np.pi\n",
    "    tr1 = 1/f1  # period\n",
    "    \n",
    "    a = -np.log((v2 - Vin)/(v1 - Vin))/tr1\n",
    "\n",
    "    l1 = (1/cadd) * ((1/((w[1]**2)+a**2))-(1/((w[0]**2)+a**2)))\n",
    "    c1 = 1/(((w[0]**2)+(a**2))*l1)\n",
    "    r1 = 2*a*l1\n",
    "    \n",
    "    return l1, c1, r1\n",
    "\n",
    "\n",
    "def calculate_parasitics2(f1, f2, v1, v2, vin, cadd):\n",
    "    m = f1/f2\n",
    "    c1 = cadd/((m**2)-1)\n",
    "    l1 = ((m**2)-1)/(((2*np.pi*f1)**2)*(cadd))\n",
    "    r1 = 0\n",
    "\n",
    "    return l1, c1, r1\n",
    "\n",
    "\n",
    "def calculate_optimized_snubber(c1, l1, r1, gsnb):\n",
    "\n",
    "    c_snb = c1 * ((4-(4*gsnb))/(2*gsnb-1))\n",
    "\n",
    "    rsnb_opt = np.sqrt((l1*(2*c1 + c_snb)*(c1 + c_snb))/(2*(c_snb**2)*c1))\n",
    "    \n",
    "    return c_snb, rsnb_opt\n",
    "\n",
    "\n",
    "def calculate_optimized_snubber2(c1, l1, r1, gsnb):\n",
    "\n",
    "    c_snb = c1 * 3\n",
    "\n",
    "    rsnb_opt = np.sqrt(l1/c1)\n",
    "\n",
    "    return c_snb, rsnb_opt\n",
    "\n",
    "def calculate_max_power_dissipation(csnb, vin_max, fsw):\n",
    "    return csnb * fsw * (vin_max**2)\n"
   ]
  },
  {
   "cell_type": "markdown",
   "metadata": {},
   "source": [
    "### Example"
   ]
  },
  {
   "cell_type": "code",
   "execution_count": 63,
   "metadata": {},
   "outputs": [
    {
     "name": "stdout",
     "output_type": "stream",
     "text": [
      "5 V\n",
      "EXAMPLE: \n",
      "L1 :  1.5032 nH\n",
      "C1 :  1.4997 nF\n",
      "R1 :  5.1127 mR\n",
      "csnb :  1.5 nF\n",
      "rsnb :  1.8257 R\n"
     ]
    }
   ],
   "source": [
    "#EXAMPLE\n",
    "vin = Quantity(12, \"V\")\n",
    "print(Vin)\n",
    "# without capacitor\n",
    "f1 = Quantity(106e6, \"Hz\")\n",
    "v1 = Quantity(23.85, \"V\")\n",
    "v2 = Quantity(23.55, \"V\")\n",
    "\n",
    "# with capacitor\n",
    "cadd = Quantity(6e-9, \"F\")\n",
    "f2 = Quantity(47.4e6, \"Hz\")\n",
    "\n",
    "l1 , c1, r1 = calculate_parasitics(f1, f2, v1, v2, vin, cadd)\n",
    "print(\"EXAMPLE: \")\n",
    "print_float(\"L1\", l1, \"H\")\n",
    "print_float(\"C1\", c1, \"F\")\n",
    "print_float(\"R1\", r1, \"R\")\n",
    "\n",
    "l1 = 1.5e-9\n",
    "c1 = 0.5e-9\n",
    "r1 = 10e-3\n",
    "\n",
    "csnb , rsnb = calculate_optimized_snubber(c1 , l1, r1, 0.7)\n",
    "print_float(\"csnb\", csnb, \"F\")\n",
    "print_float(\"rsnb\", rsnb, \"R\")\n",
    "\n"
   ]
  },
  {
   "cell_type": "markdown",
   "metadata": {},
   "source": [
    "### HIGH SIDE"
   ]
  },
  {
   "cell_type": "code",
   "execution_count": 68,
   "metadata": {},
   "outputs": [
    {
     "name": "stdout",
     "output_type": "stream",
     "text": [
      "method EDN:\n",
      "high_side: \n",
      "L1 :  22.456 nH\n",
      "C1 :  15.483 nF\n",
      "R1 :  347.62 mR\n",
      "csnb :  46.449 nF\n",
      "rsnb :  1.2695 R\n",
      "P_loss :  1.3935 W\n",
      "method TI:\n",
      "high_side: \n",
      "L1 :  23.733 nH\n",
      "C1 :  14.962 nF\n",
      "R1 :  0 R\n",
      "csnb :  44.885 nF\n",
      "rsnb :  1.2595 R\n",
      "P_loss :  1.3466 W\n"
     ]
    }
   ],
   "source": [
    "#high side\n",
    "vin_max = Quantity(50, \"V\")\n",
    "fsw = Quantity(12e3, \"Hz\")\n",
    "Vin = Quantity(5, \"V\")\n",
    "\n",
    "# without capacitor\n",
    "f1 = Quantity(8.446e6, \"Hz\")\n",
    "v1 = Quantity(9.808, \"V\")\n",
    "v2 = Quantity(6.923, \"V\")\n",
    "\n",
    "# with capacitor\n",
    "cadd = Quantity(9.54e-9, \"F\")\n",
    "f2 = Quantity(6.6e6, \"Hz\")\n",
    "\n",
    "print(\"method EDN:\")\n",
    "l1, c1, r1 = calculate_parasitics(f1, f2, v1, v2, vin, cadd)\n",
    "print(\"high_side: \")\n",
    "print_float(\"L1\", l1, \"H\")\n",
    "print_float(\"C1\", c1, \"F\")\n",
    "print_float(\"R1\", r1, \"R\")\n",
    "\n",
    "csnb, rsnb = calculate_optimized_snubber(c1, l1, r1, 0.7)\n",
    "print_float(\"csnb\", csnb, \"F\")\n",
    "print_float(\"rsnb\", rsnb, \"R\")\n",
    "\n",
    "p_loss = calculate_max_power_dissipation(csnb, vin_max, fsw)\n",
    "print_float(\"P_loss\", p_loss, \"W\")\n",
    "\n",
    "print(\"method TI:\")\n",
    "l1, c1, r1 = calculate_parasitics2(f1, f2, v1, v2, vin, cadd)\n",
    "print(\"high_side: \")\n",
    "print_float(\"L1\", l1, \"H\")\n",
    "print_float(\"C1\", c1, \"F\")\n",
    "print_float(\"R1\", r1, \"R\")\n",
    "\n",
    "csnb, rsnb = calculate_optimized_snubber2(c1, l1, r1, 0.7)\n",
    "print_float(\"csnb\", csnb, \"F\")\n",
    "print_float(\"rsnb\", rsnb, \"R\")\n",
    "\n",
    "p_loss = calculate_max_power_dissipation(csnb, vin_max, fsw)\n",
    "print_float(\"P_loss\", p_loss, \"W\")\n"
   ]
  },
  {
   "cell_type": "markdown",
   "metadata": {},
   "source": [
    "### LOW SIDE"
   ]
  },
  {
   "cell_type": "code",
   "execution_count": 74,
   "metadata": {},
   "outputs": [
    {
     "name": "stdout",
     "output_type": "stream",
     "text": [
      "method EDN:\n",
      "#LOW SIDE: \n",
      "L1 :  7.2186 nH\n",
      "C1 :  4.6465 nF\n",
      "R1 :  308.37 mR\n",
      "csnb :  13.939 nF\n",
      "rsnb :  1.3138 R\n",
      "P_loss :  418.18 mW\n",
      "method TI:\n",
      "#LOW SIDE: \n",
      "L1 :  7.7228 nH\n",
      "C1 :  4.4106 nF\n",
      "R1 :  0 R\n",
      "csnb :  13.232 nF\n",
      "rsnb :  1.3232 R\n",
      "P_loss :  396.95 mW\n"
     ]
    }
   ],
   "source": [
    "#LOW SIDE\n",
    "Vin = Quantity(5, \"V\")\n",
    "\n",
    "# without capacitor\n",
    "f1 = Quantity(27.27e6, \"Hz\")\n",
    "v1 = Quantity(6.346, \"V\")\n",
    "v2 = Quantity(5.615, \"V\")\n",
    "\n",
    "# with capacitor\n",
    "cadd = Quantity(10.768e-9, \"F\")\n",
    "f2 = Quantity(14.7e6, \"Hz\")\n",
    "\n",
    "print(\"method EDN:\")\n",
    "l1, c1, r1 = calculate_parasitics(f1, f2, v1, v2, vin, cadd)\n",
    "print(\"#LOW SIDE: \")\n",
    "print_float(\"L1\", l1, \"H\")\n",
    "print_float(\"C1\", c1, \"F\")\n",
    "print_float(\"R1\", r1, \"R\")\n",
    "\n",
    "csnb, rsnb = calculate_optimized_snubber(c1, l1, r1, 0.7)\n",
    "print_float(\"csnb\", csnb, \"F\")\n",
    "print_float(\"rsnb\", rsnb, \"R\")\n",
    "\n",
    "p_loss = calculate_max_power_dissipation(csnb, vin_max, fsw)\n",
    "print_float(\"P_loss\", p_loss, \"W\")\n",
    "\n",
    "print(\"method TI:\")\n",
    "l1, c1, r1 = calculate_parasitics2(f1, f2, v1, v2, vin, cadd)\n",
    "print(\"#LOW SIDE: \")\n",
    "print_float(\"L1\", l1, \"H\")\n",
    "print_float(\"C1\", c1, \"F\")\n",
    "print_float(\"R1\", r1, \"R\")\n",
    "\n",
    "csnb, rsnb = calculate_optimized_snubber2(c1, l1, r1, 0.7)\n",
    "print_float(\"csnb\", csnb, \"F\")\n",
    "print_float(\"rsnb\", rsnb, \"R\")\n",
    "p_loss = calculate_max_power_dissipation(csnb, vin_max, fsw)\n",
    "print_float(\"P_loss\", p_loss, \"W\")\n"
   ]
  },
  {
   "cell_type": "markdown",
   "metadata": {},
   "source": [
    "### Choosing the proper Rsnb value\n"
   ]
  },
  {
   "cell_type": "code",
   "execution_count": null,
   "metadata": {},
   "outputs": [
    {
     "name": "stdout",
     "output_type": "stream",
     "text": [
      "1.3041474654377883e-09\n",
      "3.7435954506357714\n"
     ]
    }
   ],
   "source": [
    "\n",
    "\n"
   ]
  },
  {
   "cell_type": "code",
   "execution_count": null,
   "metadata": {},
   "outputs": [
    {
     "data": {
      "image/png": "[encoded data removed]",
      "text/plain": [
       "<Figure size 640x480 with 1 Axes>"
      ]
     },
     "metadata": {},
     "output_type": "display_data"
    }
   ],
   "source": []
  }
 ],
 "metadata": {
  "kernelspec": {
   "display_name": "Python 3.10.6 ('env': venv)",
   "language": "python",
   "name": "python3"
  },
  "language_info": {
   "codemirror_mode": {
    "name": "ipython",
    "version": 3
   },
   "file_extension": ".py",
   "mimetype": "text/x-python",
   "name": "python",
   "nbconvert_exporter": "python",
   "pygments_lexer": "ipython3",
   "version": "3.10.6"
  },
  "orig_nbformat": 4,
  "vscode": {
   "interpreter": {
    "hash": "0af294f39a3c7dbd2792c6a00134d7a72316f9a1c2ebaf24d8972e8eba4af65b"
   }
  }
 },
 "nbformat": 4,
 "nbformat_minor": 2
}
